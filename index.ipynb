{
 "cells": [
  {
   "cell_type": "raw",
   "metadata": {},
   "source": [
    "---\n",
    "title: \"Opportunistic Recharge Enhacement - an analysis of state-wide suitability mapping in Arizona\" \n",
    "author:\n",
    "  - name: Ryan E. Lima\n",
    "    orcid: 0000-0002-5352-7215\n",
    "    email: ryan.lima@nau.edu\n",
    "    affiliation: \n",
    "      - name: Northern Arizona University\n",
    "        city: Flagstaff\n",
    "        state: Arizona\n",
    "    roles:\n",
    "          - Investigation    \n",
    "          - Software\n",
    "          - Visualization\n",
    "  - name: Neha Gupta\n",
    "    email: nehagupta@arizona.edu\n",
    "    affiliation: \n",
    "      - name: University of Arizona\n",
    "        city: Tucson\n",
    "        state: Arizona\n",
    "    corresponding: true\n",
    "    roles:\n",
    "          - Investigation    \n",
    "          - Software\n",
    "          - Visualization\n",
    "bibliography: references.bib\n",
    "citation:\n",
    "  container-title: Journal Name\n",
    "number-sections: true\n",
    "---\n"
   ]
  },
  {
   "cell_type": "markdown",
   "metadata": {},
   "source": [
    "## Introduction {#sec-intro}"
   ]
  },
  {
   "cell_type": "markdown",
   "metadata": {},
   "source": [
    "## Conclusion {#sec-conclusions}"
   ]
  },
  {
   "cell_type": "markdown",
   "metadata": {},
   "source": [
    "## References {.unnumbered}\n",
    "\n",
    ":::{#refs}\n",
    "\n",
    ":::"
   ]
  },
  {
   "cell_type": "code",
   "execution_count": null,
   "metadata": {},
   "outputs": [],
   "source": []
  }
 ],
 "metadata": {
  "kernelspec": {
   "display_name": "Python 3 (ipykernel)",
   "language": "python",
   "name": "python3"
  },
  "language_info": {
   "codemirror_mode": {
    "name": "ipython",
    "version": 3
   },
   "file_extension": ".py",
   "mimetype": "text/x-python",
   "name": "python",
   "nbconvert_exporter": "python",
   "pygments_lexer": "ipython3",
   "version": "3.11.5"
  }
 },
 "nbformat": 4,
 "nbformat_minor": 4
}
