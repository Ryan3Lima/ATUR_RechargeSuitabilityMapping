{
 "cells": [
  {
   "cell_type": "markdown",
   "metadata": {},
   "source": [
    "# Literature Reviewed"
   ],
   "id": "59fdaab4-a67d-4dd6-b2da-d1f8fc3df56e"
  },
  {
   "cell_type": "code",
   "execution_count": null,
   "metadata": {},
   "outputs": [],
   "source": [
    "---\n",
    "title: Literature Review for Opportunistic Recharge Enhancement\n",
    "author: Ryan E Lima\n",
    "number-sections: true\n",
    "---"
   ],
   "id": "40688294-8561-4a82-9e6f-6947a78ffbaf"
  },
  {
   "cell_type": "markdown",
   "metadata": {},
   "source": [],
   "id": "02eb0cf2-549c-490e-8eef-00ee5ee0fe3d"
  },
  {
   "cell_type": "markdown",
   "metadata": {},
   "source": [
    "**Uncovering the gaps in manage aquifer recharge for sustainabile groundwater: A focus on hillslopes and mountains** \\[@meles_uncovering_2024\\]\n",
    "\n",
    "*Key findings:*\n",
    "\n",
    "> 1.  This paper recommends using mountain/hillslope managed aquifer recharge Hillslope-MAR and water chaptured by roadside channel networks as a potential new source and setting for MAR applications.\n",
    "> 2.  Suggests that road system-based managed aquifer recharge (Road-MAR) could have high potential for enhancing recharge through things like infiltrations channels.\n",
    "> 3.  Roads on mountain sides and hillslopes passing through areas with high concentrations of lineaments could be suitable areas\n",
    "\n",
    "*Keywords:*\n",
    "\n",
    "Managed Aquifer Recharge (MAR); Attenuation Zone, Groundwater, Lineaments/Faults, Hillslope-MAR, Road-MAR"
   ],
   "id": "936aed82-f69e-41a2-8d6b-abc9da9cd502"
  },
  {
   "cell_type": "markdown",
   "metadata": {},
   "source": [
    "**Mountain-Block Recharge: A Review of Current Understanding** \\[@markovich_mountainblock_2019\\]\n",
    "\n",
    "*Key findings:*\n",
    "\n",
    "> 1.  Mountain-block recharge confirmed as important source of recharge to basin aquifers in a variety of climatic and geologic settings globally.\n",
    "> 2.  Recent work advanced the understanding of fundamental controls on mountain-block recharge ans somewhat improved methods for characterization.\n",
    "> 3.  Future research should aim to acquire subsurface data in mountain blocks and at the mountain front.\n",
    "\n",
    "*Keywords:*\n",
    "\n",
    "Mountain Front Recharge (MFR), Mountain Block Recharge (MBR), Aquifer Recharge, Review"
   ],
   "id": "84d27216-05a7-49de-873b-0340dd2a2cbf"
  },
  {
   "cell_type": "markdown",
   "metadata": {},
   "source": [
    "**Mountain-block hydrology and mountain-front recharge** \\[@hogan_mountain-block_2004\\]\n",
    "\n",
    "*Key findings:*\n",
    "\n",
    "> 1.  Explains the general processes at work in Mountain fronts and Mountain blocks\n",
    "> 2.  Provides practical advice for delineating the mountain front and the mountain block\n",
    "\n",
    "*Keywords:*\n",
    "\n",
    "Mountain Front Zone, Mountain Block"
   ],
   "id": "abc8b30b-b46c-46f6-99f9-f4fe62b139a5"
  },
  {
   "cell_type": "markdown",
   "metadata": {},
   "source": [
    "**Title** \\[citation\\]\n",
    "\n",
    "*Key findings:*\n",
    "\n",
    "> 1.  text\n",
    "\n",
    "*Keywords:*"
   ],
   "id": "58011e92-ccc8-4b66-865a-6604888f3bc8"
  },
  {
   "cell_type": "code",
   "execution_count": null,
   "metadata": {},
   "outputs": [],
   "source": [
    "## References {.unnumbered}\n",
    "\n",
    ":::{#refs}\n",
    "\n",
    ":::"
   ],
   "id": "86a9743f-574a-4db2-a4d4-5437b0f81a6e"
  }
 ],
 "nbformat": 4,
 "nbformat_minor": 5,
 "metadata": {}
}
